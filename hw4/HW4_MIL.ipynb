{
  "cells": [
    {
      "cell_type": "markdown",
      "metadata": {
        "id": "tQILJqGw4gf3"
      },
      "source": [
        "# HW4 - Breast Cancer Detection using Multiple Instance Learning (MIL) (100 points)\n",
        "\n",
        "## Course Name: Intelligent Analysis of Biomedical Images\n",
        "\n",
        "#### Lecturers: Dr. Rohban\n",
        "#### Name: Mohammad Hossein Sameti\n",
        "#### Student ID: 401204932\n",
        "\n",
        "---\n",
        "\n",
        "**Contact**: Ask your questions in Quera\n",
        "\n",
        "---\n",
        "\n",
        "\n"
      ]
    },
    {
      "cell_type": "markdown",
      "metadata": {
        "id": "UbrB0MgxhWqi"
      },
      "source": [
        "In this part we are going implement the idea proposed by the paper \"Breast Cancer Histopathology Image Classification\n",
        "and Localization using Multiple Instance Learning\" and reproduce some of their results. Please read this paper before starting the next part. Here is the link to it:\n",
        "\n",
        "https://arxiv.org/pdf/2003.00823.pdf"
      ]
    },
    {
      "cell_type": "markdown",
      "metadata": {
        "id": "Zq_v4elarDmA"
      },
      "source": [
        "In the next sections, we only use one of the presented datasets in the above paper. In the explanation of every section, it is assumed that you have read the paper before starting that part. It should also be mentioned that you are free to modify everything in this notebook and all provided codes are for better understanding."
      ]
    },
    {
      "cell_type": "markdown",
      "metadata": {
        "id": "4w6BPc4JQdc3"
      },
      "source": [
        "You can read the \"Attention-based Deep Multiple Instance Learning\" paper for more explanation. Here is the link to it:\n",
        "\n",
        "https://arxiv.org/pdf/1802.04712.pdf"
      ]
    },
    {
      "cell_type": "markdown",
      "metadata": {
        "id": "Pt_IZkamipl0"
      },
      "source": [
        "## Imports"
      ]
    },
    {
      "cell_type": "markdown",
      "metadata": {
        "id": "dtR6EJb-jqkf"
      },
      "source": [
        "Feel free to import any library you need."
      ]
    },
    {
      "cell_type": "code",
      "execution_count": 1,
      "metadata": {
        "id": "MGEqdP8ZsDUN"
      },
      "outputs": [],
      "source": [
        "import torch\n",
        "import torch.nn as nn\n",
        "import torch.nn.functional as F\n",
        "import numpy as np\n",
        "from torchvision import transforms, io, models\n",
        "from torch.utils.data import DataLoader, Dataset, random_split\n",
        "import warnings\n",
        "warnings.filterwarnings(\"ignore\")"
      ]
    },
    {
      "cell_type": "markdown",
      "metadata": {
        "id": "sgJKoh50j3XF"
      },
      "source": [
        "## Downloading dataset"
      ]
    },
    {
      "cell_type": "markdown",
      "metadata": {
        "id": "JWW9K4rAj_5w"
      },
      "source": [
        "Here is the code to download and decompress the BreaKHis dataset. This code is written for the google colab environment and you may need to modify it for running on other devices."
      ]
    },
    {
      "cell_type": "markdown",
      "metadata": {
        "id": "SQ6fFnhfmOTQ"
      },
      "source": [
        "Link to the dataset's website:\n",
        "\n",
        "https://web.inf.ufpr.br/vri/databases/breast-cancer-histopathological-database-breakhis/"
      ]
    },
    {
      "cell_type": "code",
      "execution_count": 2,
      "metadata": {
        "colab": {
          "base_uri": "https://localhost:8080/"
        },
        "id": "kjL8Nyjbf8p9",
        "outputId": "b8952470-1a49-4450-9c74-f09026b3932b"
      },
      "outputs": [
        {
          "output_type": "stream",
          "name": "stdout",
          "text": [
            "--2023-12-25 08:35:08--  http://www.inf.ufpr.br/vri/databases/BreaKHis_v1.tar.gz\n",
            "Resolving www.inf.ufpr.br (www.inf.ufpr.br)... 200.17.202.113, 2801:82:80ff:8001:216:ccff:feaa:79\n",
            "Connecting to www.inf.ufpr.br (www.inf.ufpr.br)|200.17.202.113|:80... connected.\n",
            "HTTP request sent, awaiting response... 301 Moved Permanently\n",
            "Location: https://www.inf.ufpr.br/vri/databases/BreaKHis_v1.tar.gz [following]\n",
            "--2023-12-25 08:35:10--  https://www.inf.ufpr.br/vri/databases/BreaKHis_v1.tar.gz\n",
            "Connecting to www.inf.ufpr.br (www.inf.ufpr.br)|200.17.202.113|:443... connected.\n",
            "HTTP request sent, awaiting response... 200 OK\n",
            "Length: 4273561758 (4.0G) [application/octet-stream]\n",
            "Saving to: ‘/content/BreaKHis_v1.tar.gz’\n",
            "\n",
            "/content/BreaKHis_v 100%[===================>]   3.98G  9.14MB/s    in 7m 49s  \n",
            "\n",
            "2023-12-25 08:43:01 (8.70 MB/s) - ‘/content/BreaKHis_v1.tar.gz’ saved [4273561758/4273561758]\n",
            "\n"
          ]
        }
      ],
      "source": [
        "!wget http://www.inf.ufpr.br/vri/databases/BreaKHis_v1.tar.gz -O /content/BreaKHis_v1.tar.gz"
      ]
    },
    {
      "cell_type": "code",
      "execution_count": 3,
      "metadata": {
        "id": "8xDYIqkigjyU"
      },
      "outputs": [],
      "source": [
        "!tar xzf /content/BreaKHis_v1.tar.gz -C /content"
      ]
    },
    {
      "cell_type": "markdown",
      "metadata": {
        "id": "xwSYOh2nlKx6"
      },
      "source": [
        "## Data Preparation (35 points)"
      ]
    },
    {
      "cell_type": "markdown",
      "metadata": {
        "id": "Fn7TF-kIprVl"
      },
      "source": [
        "In this section, you will implement several things:\n",
        "\n",
        "- A custom pytorch Dataset for our data. You can use the current decompressed folder or change the structure to make it easier to work with.\n",
        "- Transformations to perform on data (You must first do the patch extraction, then apply the transformations on every patch.)\n",
        "- Patch extraction code (you can also implement it in the following sections)\n",
        "- Dataloaders (instead of 80-20 split for train-test sets from the paper, you should use 80-5-15 split for train-val-test sets here and save best model w.r.t. the validation loss)"
      ]
    },
    {
      "cell_type": "code",
      "execution_count": 2,
      "metadata": {
        "id": "WC8zDqSL6Lvb"
      },
      "outputs": [],
      "source": [
        "import os\n",
        "def getListOfFiles(dirName):\n",
        "    # create a list of file and sub directories\n",
        "    # names in the given directory\n",
        "    listOfFile = os.listdir(dirName)\n",
        "    allFiles = list()\n",
        "    # Iterate over all the entries\n",
        "    for entry in listOfFile:\n",
        "        # Create full path\n",
        "        fullPath = os.path.join(dirName, entry)\n",
        "        # If entry is a directory then get the list of files in this directory\n",
        "        if os.path.isdir(fullPath):\n",
        "            allFiles = allFiles + getListOfFiles(fullPath)\n",
        "        else:\n",
        "            allFiles.append(fullPath)\n",
        "\n",
        "    return allFiles"
      ]
    },
    {
      "cell_type": "code",
      "execution_count": 3,
      "metadata": {
        "id": "DpV_lA_F6anI"
      },
      "outputs": [],
      "source": [
        "files=getListOfFiles('./BreaKHis_v1/histology_slides/breast')\n",
        "imgs = {}\n",
        "for f in files:\n",
        "    if f.endswith('.png'):\n",
        "        temp = f.split('/')\n",
        "        imgs[temp[-3]] = []\n"
      ]
    },
    {
      "cell_type": "code",
      "execution_count": 4,
      "metadata": {
        "id": "teNhqMAN6agP"
      },
      "outputs": [],
      "source": [
        "for f in files:\n",
        "    if f.endswith('.png'):\n",
        "        temp = f.split('/')\n",
        "        imgs[temp[-3]].append(f)"
      ]
    },
    {
      "cell_type": "code",
      "execution_count": 5,
      "metadata": {
        "id": "bc-UHR4TiPxd"
      },
      "outputs": [],
      "source": [
        "# Implement the custom dataset here (15 points)\n",
        "from PIL import Image\n",
        "class CustomBreaKHis(Dataset):\n",
        "\n",
        "    def __init__(self, data_dic, magn, transform=None):\n",
        "        # To-Do\n",
        "        super(CustomBreaKHis, self).__init__()\n",
        "        self.transform = transform\n",
        "        self.magn = magn\n",
        "        self.path = data_dic\n",
        "    def __len__(self):\n",
        "        # To-Do\n",
        "        return len(self.path[self.magn])\n",
        "    def __getitem__(self, index):\n",
        "        # To-Do\n",
        "        img = self.path[self.magn][index]\n",
        "        image = [self.transform(Image.open(im)) for im in img]\n",
        "\n",
        "        temp = img[0].split('/')\n",
        "        if temp[4] == 'benign':\n",
        "          return torch.stack(image), torch.tensor([0], dtype=torch.long,requires_grad=False)\n",
        "        elif temp[4] == 'malignant':\n",
        "          return torch.stack(image), torch.tensor([1], dtype=torch.long,requires_grad=False)"
      ]
    },
    {
      "cell_type": "code",
      "execution_count": 6,
      "metadata": {
        "id": "AVM3hBd4LSsD"
      },
      "outputs": [],
      "source": [
        "# Implement the transforms here (5 points)\n",
        "\n",
        "transform = transforms.Compose([\n",
        "    transforms.Resize((28,28)),\n",
        "    transforms.ToTensor()\n",
        "])"
      ]
    },
    {
      "cell_type": "code",
      "execution_count": 7,
      "metadata": {
        "id": "7uqiQzQ8RB4w"
      },
      "outputs": [],
      "source": [
        "# Create dataloaders here (5 points)\n",
        "magnifications = [\"40X\", \"100X\", \"200X\", \"400X\"]\n",
        "data = {}\n",
        "for magn in magnifications:\n",
        "    data[magn] = {}\n",
        "    for i, (k, v) in enumerate(imgs.items()):\n",
        "      data[magn][i] = []\n",
        "      for j in v:\n",
        "        if j.split('/')[-2] == magn :\n",
        "          data[magn][i].append(j)\n",
        "\n",
        "\n",
        "dataset40x = CustomBreaKHis(data, magn='40X', transform=transform)\n",
        "dataset100x = CustomBreaKHis(data, magn='100X', transform=transform)\n",
        "dataset200x = CustomBreaKHis(data, magn='200X', transform=transform)\n",
        "dataset400x = CustomBreaKHis(data, magn='400X', transform=transform)\n",
        "\n",
        "dataset40x_train, dataset40x_val, dataset40x_test = random_split(dataset40x, [int(0.7 * len(dataset40x)), int(0.1 * len(dataset40x )), len(dataset40x) - int(0.7 * len(dataset40x)) - int(0.1 * len(dataset40x ))])\n",
        "dataset100x_train, dataset100x_val, dataset100x_test = random_split(dataset100x, [int(0.7 * len(dataset100x)),  int(0.1 * len(dataset100x )), len(dataset100x) - int(0.7 * len(dataset100x)) - int(0.1 * len(dataset100x ))])\n",
        "dataset200x_train, dataset200x_val, dataset200x_test = random_split(dataset200x, [int(0.7 * len(dataset200x)),  int(0.1 * len(dataset200x )), len(dataset200x) - int(0.7 * len(dataset200x)) - int(0.1 * len(dataset200x ))])\n",
        "dataset400x_train, dataset400x_val, dataset400x_test = random_split(dataset400x, [int(0.7 * len(dataset400x)),  int(0.1 * len(dataset400x )), len(dataset400x) - int(0.7 * len(dataset400x)) - int(0.1 * len(dataset400x ))])\n",
        "\n",
        "\n",
        "\n",
        "# loader40x_train = DataLoader(dataset40x_train, batch_size=None, shuffle=True)\n",
        "# loader100x_train = DataLoader(dataset100x_train, batch_size=None, shuffle=True)\n",
        "# loader200x_train = DataLoader(dataset200x_train, batch_size=None, shuffle=True)\n",
        "# loader400x_train = DataLoader(dataset400x_train, batch_size=None, shuffle=True)\n",
        "\n",
        "\n",
        "# loader40x_test = DataLoader(dataset40x_test, batch_size=None, shuffle=True)\n",
        "# loader100x_test = DataLoader(dataset100x_test, batch_size=None, shuffle=True)\n",
        "# loader200x_test = DataLoader(dataset200x_test, batch_size=None, shuffle=True)\n",
        "# loader400x_test = DataLoader(dataset400x_test, batch_size=None, shuffle=True)"
      ]
    },
    {
      "cell_type": "code",
      "execution_count": 10,
      "metadata": {
        "colab": {
          "base_uri": "https://localhost:8080/"
        },
        "id": "29MYSEV67qMg",
        "outputId": "d05adb01-8427-4592-dbce-615cdc698c71"
      },
      "outputs": [
        {
          "output_type": "execute_result",
          "data": {
            "text/plain": [
              "8"
            ]
          },
          "metadata": {},
          "execution_count": 10
        }
      ],
      "source": [
        "len(dataset40x_val)"
      ]
    },
    {
      "cell_type": "code",
      "execution_count": null,
      "metadata": {
        "id": "okFoJzT97fAl"
      },
      "outputs": [],
      "source": [
        "# Implement patch extraction here (10 points)\n",
        "# If you are going to implement it somewhere else, please comment it here."
      ]
    },
    {
      "cell_type": "markdown",
      "metadata": {
        "id": "5RX02sSeLblU"
      },
      "source": [
        "## Model Implementation (25 points)"
      ]
    },
    {
      "cell_type": "markdown",
      "metadata": {
        "id": "-a34eqHzLkB2"
      },
      "source": [
        "Here, you have to implement the proposed architecture in the paper. The only point is that in the last part of the model, instead of a \"dense+softmax\" you should implement a \"dense+sigmoid\"."
      ]
    },
    {
      "cell_type": "code",
      "execution_count": 35,
      "metadata": {
        "id": "MGC-Hwdfygoz"
      },
      "outputs": [],
      "source": [
        "# Implement the model here (25 points)\n",
        "\n",
        "class MILModel(nn.Module):\n",
        "  def __init__(self):\n",
        "    super(MILModel, self).__init__()\n",
        "    #self.backbone = models.resnet50(pretrained=False)\n",
        "    self.Feature_extractor = nn.Sequential(nn.Conv2d(3, 20 , kernel_size=5),\n",
        "                                            nn.ReLU(),\n",
        "                                            nn.MaxPool2d(kernel_size=2, stride=2),\n",
        "                                            nn.Conv2d(20, 50 , kernel_size=5),\n",
        "                                            nn.ReLU(),\n",
        "                                            nn.MaxPool2d(kernel_size=2, stride=2),\n",
        "                                            )\n",
        "\n",
        "    self.Feature_extractor_fc = nn.Sequential(nn.Linear(16 * 50, 500),\n",
        "                                             nn.ReLU())\n",
        "\n",
        "\n",
        "    self.attention = nn.Sequential(nn.Linear(500, 128),\n",
        "                                     nn.Tanh(),\n",
        "                                     nn.Linear(128, 1))\n",
        "\n",
        "    self.classifier = nn.Sequential(nn.Linear(500, 1),\n",
        "                                    nn.Sigmoid())\n",
        "\n",
        "  def forward(self, x):\n",
        "    x = self.Feature_extractor(x)\n",
        "    x = self.Feature_extractor_fc(x.view(-1, 50 * 4 * 4))\n",
        "    y = self.attention(x)\n",
        "    x = F.softmax(torch.transpose(y, 1, 0), dim=1) @ x\n",
        "    x = self.classifier(x)\n",
        "    return x\n"
      ]
    },
    {
      "cell_type": "markdown",
      "metadata": {
        "id": "CGvECwd-NGJ4"
      },
      "source": [
        "## Training (32 points)"
      ]
    },
    {
      "cell_type": "markdown",
      "metadata": {
        "id": "-h03lnx3NJoF"
      },
      "source": [
        "In this section, you will implement the training method and use it to train the model for every magnification. The model has to be trained for at least 60 epochs. But, in every epoch, we use 200 mini-batches to train the model instead of the whole training data, which means with a batch size of one, we use 200 images for training the model in every epoch. With this method, we spend less training time but actually, iterate whole data several times. (You have to make sure that the train loader will get shuffled correctly every epoch)\n",
        "\n",
        "You should save loss and accuracy per epoch for training and validation sets. Then, you must plot the loss and accuracy of every magnification, which is crucial for scoring this assignment.\n",
        "\n",
        "Hint: Training the model for one epoch takes around 7 seconds on the Google Colab environment. You have to train every model for at least 60 epochs, but longer training time can result in higher accuracies.\n",
        "\n",
        "Note: You are not expected to achieve the exact accuracies reported in the paper for getting the full score. A correct implementation and sufficient training epochs receive the total score for this assignment."
      ]
    },
    {
      "cell_type": "code",
      "execution_count": 9,
      "metadata": {
        "id": "3xCYwgCHmi9X"
      },
      "outputs": [],
      "source": [
        "from sklearn.metrics import accuracy_score"
      ]
    },
    {
      "cell_type": "code",
      "execution_count": 10,
      "metadata": {
        "id": "IwdpcHFXHqoa"
      },
      "outputs": [],
      "source": [
        "device = torch.device(\"cuda:0\" if torch.cuda.is_available() else \"cpu\")"
      ]
    },
    {
      "cell_type": "code",
      "execution_count": 84,
      "metadata": {
        "id": "jA2rmBJwzQeG"
      },
      "outputs": [],
      "source": [
        "# Implement the training method here (20 points)\n",
        "def train(model, num_epochs, dataloader, dataloader_val, optimizer, criterion, name):\n",
        "    # To-Do\n",
        "  Best_accu = 0\n",
        "  Losses, Accuracy = [], []\n",
        "  for epoch in range(num_epochs):\n",
        "      l = 0\n",
        "      predicted, trues = [], []\n",
        "      predicted_val, trues_val = [], []\n",
        "      for bags, labels in dataloader:\n",
        "\n",
        "          bags, labels = bags.to(device), labels.to(device)\n",
        "          optimizer.zero_grad()\n",
        "          outputs = model(bags)\n",
        "          loss = criterion(outputs[0].type(torch.float32), labels.type(torch.float32))\n",
        "          loss.backward()\n",
        "          optimizer.step()\n",
        "          l += loss\n",
        "          predicted.append(torch.round(outputs).type(torch.int16).cpu().tolist()[0][0])\n",
        "          trues.append(labels.cpu().tolist()[0])\n",
        "\n",
        "      with torch.no_grad():\n",
        "        for bag, label in dataloader_val:\n",
        "          bag, label = bag.to(device), label.to(device)\n",
        "          optimizer.zero_grad()\n",
        "          output = model(bag)\n",
        "          #print(torch.round(output[0]).cpu().tolist(), label.cpu().tolist())\n",
        "          predicted_val.append(torch.round(output).cpu().tolist()[0][0])\n",
        "          trues_val.append(label.cpu().tolist()[0])\n",
        "\n",
        "      acc_val = accuracy_score(predicted_val, trues_val)\n",
        "      if acc_val > Best_accu:\n",
        "        torch.save(model.state_dict(), f'/content/{name}.pt')\n",
        "      scheduler.step(acc_val)\n",
        "      l /= len(dataloader)\n",
        "      acc = accuracy_score(predicted, trues)\n",
        "      Losses.append(l.cpu().detach().item())\n",
        "      Accuracy.append(acc)\n",
        "      print(f'Epoch {epoch + 1}, Loss: {l.item():.3f}, Accuracy: {acc:.3f}, Acuracy_val: {acc_val:.3f}')\n",
        "  return Losses, Accuracy"
      ]
    },
    {
      "cell_type": "code",
      "execution_count": 85,
      "metadata": {
        "id": "2MZ627d7obvM"
      },
      "outputs": [],
      "source": [
        "model40x = MILModel()\n",
        "model40x = model40x.to(device)\n",
        "criterion=nn.BCELoss()\n",
        "optim=torch.optim.Adam(model40x.parameters(),lr=5e-4, weight_decay=0.0001)\n",
        "scheduler = torch.optim.lr_scheduler.ReduceLROnPlateau(optim, 'min')"
      ]
    },
    {
      "cell_type": "code",
      "execution_count": 87,
      "metadata": {
        "colab": {
          "base_uri": "https://localhost:8080/"
        },
        "id": "kfaes8urbz5f",
        "outputId": "300fc703-45f5-4814-d6c9-4102999c7a30"
      },
      "outputs": [
        {
          "output_type": "stream",
          "name": "stdout",
          "text": [
            "Epoch 1, Loss: 0.542, Accuracy: 0.719, Acuracy_val: 0.750\n",
            "Epoch 2, Loss: 0.550, Accuracy: 0.684, Acuracy_val: 0.750\n",
            "Epoch 3, Loss: 0.519, Accuracy: 0.807, Acuracy_val: 0.750\n",
            "Epoch 4, Loss: 0.539, Accuracy: 0.772, Acuracy_val: 0.750\n",
            "Epoch 5, Loss: 0.528, Accuracy: 0.719, Acuracy_val: 0.750\n",
            "Epoch 6, Loss: 0.526, Accuracy: 0.772, Acuracy_val: 0.750\n",
            "Epoch 7, Loss: 0.526, Accuracy: 0.807, Acuracy_val: 0.750\n",
            "Epoch 8, Loss: 0.468, Accuracy: 0.789, Acuracy_val: 1.000\n",
            "Epoch 9, Loss: 0.459, Accuracy: 0.807, Acuracy_val: 1.000\n",
            "Epoch 10, Loss: 0.444, Accuracy: 0.842, Acuracy_val: 1.000\n"
          ]
        }
      ],
      "source": [
        "# Train the model on the 40X data here (1 points)\n",
        "epochs = 10\n",
        "magn = \"40X\"\n",
        "Loss, accu = train(model40x, epochs, dataset40x_train, dataset40x_val, optim, criterion, 'model40x')"
      ]
    },
    {
      "cell_type": "code",
      "execution_count": 88,
      "metadata": {
        "colab": {
          "base_uri": "https://localhost:8080/",
          "height": 430
        },
        "id": "Dl2gxL7TOyAA",
        "outputId": "fd41012e-3201-49e6-a5b7-59ce24e9e902"
      },
      "outputs": [
        {
          "output_type": "display_data",
          "data": {
            "text/plain": [
              "<Figure size 640x480 with 1 Axes>"
            ],
            "image/png": "[encoded data removed]"
          },
          "metadata": {}
        }
      ],
      "source": [
        "# Plot loss and accuracy per epoch for 40X here (2 points)\n",
        "import matplotlib.pyplot as plt\n",
        "\n",
        "plt.plot(Loss, label='loss')\n",
        "plt.plot(accu, label='accuracy')\n",
        "plt.legend()\n",
        "plt.show()"
      ]
    },
    {
      "cell_type": "code",
      "execution_count": 89,
      "metadata": {
        "id": "R_v9Q6PPO6KO"
      },
      "outputs": [],
      "source": [
        "torch.cuda.empty_cache()"
      ]
    },
    {
      "cell_type": "code",
      "execution_count": 90,
      "metadata": {
        "id": "MayksdNcs8qB"
      },
      "outputs": [],
      "source": [
        "model100x = MILModel()\n",
        "model100x = model100x.to(device)\n",
        "criterion=nn.BCELoss()\n",
        "optim100=torch.optim.Adam(model100x.parameters(),lr=5e-5)\n",
        "scheduler = torch.optim.lr_scheduler.ReduceLROnPlateau(optim100, 'min')"
      ]
    },
    {
      "cell_type": "code",
      "execution_count": 91,
      "metadata": {
        "colab": {
          "base_uri": "https://localhost:8080/"
        },
        "id": "YVXLM3NMJjDT",
        "outputId": "d8263451-fd9f-4da1-edd3-ebbfc4bb6f6d"
      },
      "outputs": [
        {
          "output_type": "stream",
          "name": "stdout",
          "text": [
            "Epoch 1, Loss: 0.684, Accuracy: 0.596, Acuracy_val: 0.875\n",
            "Epoch 2, Loss: 0.651, Accuracy: 0.702, Acuracy_val: 0.875\n",
            "Epoch 3, Loss: 0.640, Accuracy: 0.702, Acuracy_val: 0.875\n",
            "Epoch 4, Loss: 0.636, Accuracy: 0.702, Acuracy_val: 0.875\n",
            "Epoch 6, Loss: 0.627, Accuracy: 0.702, Acuracy_val: 0.875\n",
            "Epoch 7, Loss: 0.624, Accuracy: 0.702, Acuracy_val: 0.875\n",
            "Epoch 8, Loss: 0.622, Accuracy: 0.702, Acuracy_val: 0.875\n",
            "Epoch 9, Loss: 0.619, Accuracy: 0.702, Acuracy_val: 0.875\n",
            "Epoch 10, Loss: 0.616, Accuracy: 0.702, Acuracy_val: 0.875\n"
          ]
        }
      ],
      "source": [
        "# Train the model on the 100X data here (1 points)\n",
        "epochs = 10\n",
        "magn = \"100X\"\n",
        "Loss, accu = train(model100x, epochs, dataset100x_train, dataset100x_val, optim100, criterion, 'model100x')"
      ]
    },
    {
      "cell_type": "code",
      "execution_count": 92,
      "metadata": {
        "colab": {
          "base_uri": "https://localhost:8080/",
          "height": 430
        },
        "id": "kbab1mVOPtow",
        "outputId": "f893c6ae-aa93-4080-d617-fd1d150f5626"
      },
      "outputs": [
        {
          "output_type": "display_data",
          "data": {
            "text/plain": [
              "<Figure size 640x480 with 1 Axes>"
            ],
            "image/png": "[encoded data removed]"
          },
          "metadata": {}
        }
      ],
      "source": [
        "# Plot loss and accuracy per epoch for 100X here (2 points)\n",
        "import matplotlib.pyplot as plt\n",
        "\n",
        "plt.plot(Loss, label='loss')\n",
        "plt.plot(accu, label='accuracy')\n",
        "plt.legend()\n",
        "plt.show()"
      ]
    },
    {
      "cell_type": "code",
      "execution_count": 93,
      "metadata": {
        "id": "VzS-deBc-jUJ"
      },
      "outputs": [],
      "source": [
        "model200x = MILModel()\n",
        "model200x = model200x.to(device)\n",
        "criterion=nn.BCELoss()\n",
        "optim200x=torch.optim.Adam(model200x.parameters(),lr=5e-4)\n",
        "scheduler = torch.optim.lr_scheduler.ReduceLROnPlateau(optim200x, 'min')"
      ]
    },
    {
      "cell_type": "code",
      "execution_count": 94,
      "metadata": {
        "colab": {
          "base_uri": "https://localhost:8080/"
        },
        "id": "Qx0ZKmCNJnRl",
        "outputId": "07db6e6f-dfc6-429d-c028-ba24eeb7a32b"
      },
      "outputs": [
        {
          "output_type": "stream",
          "name": "stdout",
          "text": [
            "Epoch 1, Loss: 0.663, Accuracy: 0.632, Acuracy_val: 0.625\n",
            "Epoch 2, Loss: 0.635, Accuracy: 0.684, Acuracy_val: 0.625\n",
            "Epoch 3, Loss: 0.636, Accuracy: 0.684, Acuracy_val: 0.625\n",
            "Epoch 4, Loss: 0.619, Accuracy: 0.684, Acuracy_val: 0.625\n",
            "Epoch 5, Loss: 0.602, Accuracy: 0.684, Acuracy_val: 0.625\n",
            "Epoch 6, Loss: 0.564, Accuracy: 0.719, Acuracy_val: 0.625\n",
            "Epoch 7, Loss: 0.526, Accuracy: 0.772, Acuracy_val: 0.625\n",
            "Epoch 8, Loss: 0.488, Accuracy: 0.789, Acuracy_val: 0.625\n",
            "Epoch 9, Loss: 0.625, Accuracy: 0.737, Acuracy_val: 0.625\n",
            "Epoch 10, Loss: 0.553, Accuracy: 0.754, Acuracy_val: 0.625\n"
          ]
        }
      ],
      "source": [
        "# Train the model on the 200X data here (1 points)\n",
        "epochs = 10\n",
        "magn = \"200X\"\n",
        "Loss, accu = train(model200x, epochs, dataset200x_train, dataset200x_val, optim200x, criterion, 'model200x')"
      ]
    },
    {
      "cell_type": "code",
      "execution_count": 95,
      "metadata": {
        "colab": {
          "base_uri": "https://localhost:8080/",
          "height": 430
        },
        "id": "etpskv0pUNJ7",
        "outputId": "5715c702-6707-4b63-9568-4c4998014e21"
      },
      "outputs": [
        {
          "output_type": "display_data",
          "data": {
            "text/plain": [
              "<Figure size 640x480 with 1 Axes>"
            ],
            "image/png": "[encoded data removed]"
          },
          "metadata": {}
        }
      ],
      "source": [
        "# Plot loss and accuracy per epoch for 200X here (2 points)\n",
        "plt.plot(Loss, label='loss')\n",
        "plt.plot(accu, label='accuracy')\n",
        "plt.legend()\n",
        "plt.show()"
      ]
    },
    {
      "cell_type": "code",
      "execution_count": 103,
      "metadata": {
        "id": "SJPvmvS0-prc"
      },
      "outputs": [],
      "source": [
        "model400x = MILModel()\n",
        "model400x = model400x.to(device)\n",
        "criterion=nn.BCELoss()\n",
        "optim400x=torch.optim.Adam(model400x.parameters(),lr=3e-4)\n",
        "scheduler = torch.optim.lr_scheduler.ReduceLROnPlateau(optim400x, 'min')"
      ]
    },
    {
      "cell_type": "code",
      "execution_count": 104,
      "metadata": {
        "id": "mfuzI_3TJvIo",
        "colab": {
          "base_uri": "https://localhost:8080/"
        },
        "outputId": "95415d32-473a-43c7-810a-53b291d379c7"
      },
      "outputs": [
        {
          "output_type": "stream",
          "name": "stdout",
          "text": [
            "Epoch 1, Loss: 0.648, Accuracy: 0.684, Acuracy_val: 1.000\n",
            "Epoch 2, Loss: 0.594, Accuracy: 0.684, Acuracy_val: 1.000\n",
            "Epoch 3, Loss: 0.551, Accuracy: 0.684, Acuracy_val: 1.000\n",
            "Epoch 4, Loss: 0.520, Accuracy: 0.719, Acuracy_val: 0.750\n",
            "Epoch 5, Loss: 0.497, Accuracy: 0.737, Acuracy_val: 0.500\n",
            "Epoch 6, Loss: 0.481, Accuracy: 0.772, Acuracy_val: 0.500\n",
            "Epoch 7, Loss: 0.468, Accuracy: 0.807, Acuracy_val: 0.500\n",
            "Epoch 8, Loss: 0.462, Accuracy: 0.772, Acuracy_val: 0.500\n",
            "Epoch 9, Loss: 0.449, Accuracy: 0.825, Acuracy_val: 0.500\n",
            "Epoch 10, Loss: 0.444, Accuracy: 0.825, Acuracy_val: 0.625\n"
          ]
        }
      ],
      "source": [
        "# Train the model on the 400X data here (1 points)\n",
        "epochs = 10\n",
        "magn = \"400X\"\n",
        "Loss, accu = train(model400x, epochs, dataset400x_train, dataset400x_val, optim400x, criterion, 'model400x')"
      ]
    },
    {
      "cell_type": "code",
      "execution_count": 105,
      "metadata": {
        "id": "0v9zUwHJURBd",
        "colab": {
          "base_uri": "https://localhost:8080/",
          "height": 430
        },
        "outputId": "8739ad97-e5bc-4174-becd-49c6fe1f2740"
      },
      "outputs": [
        {
          "output_type": "display_data",
          "data": {
            "text/plain": [
              "<Figure size 640x480 with 1 Axes>"
            ],
            "image/png": "[encoded data removed]"
          },
          "metadata": {}
        }
      ],
      "source": [
        "# Plot loss and accuracy per epoch for 400X here (2 points)\n",
        "plt.plot(Loss, label='loss')\n",
        "plt.plot(accu, label='accuracy')\n",
        "plt.legend()\n",
        "plt.show()"
      ]
    },
    {
      "cell_type": "markdown",
      "metadata": {
        "id": "8JwCsjXBVvV9"
      },
      "source": [
        "## Evaluation (8 points)"
      ]
    },
    {
      "cell_type": "markdown",
      "metadata": {
        "id": "XtoCmy9gZeQP"
      },
      "source": [
        "Now, we need to evaluate our best model in every magnification on the test set. Complete the test method and use it for the evaluation of models."
      ]
    },
    {
      "cell_type": "code",
      "execution_count": 110,
      "metadata": {
        "id": "orbk7Pa2Vxxj"
      },
      "outputs": [],
      "source": [
        "# Implement the test method here (4 points)\n",
        "def test(model, dataloader_val):\n",
        "  predicted_val, trues_val = [], []\n",
        "  with torch.no_grad():\n",
        "    for bag, label in dataloader_val:\n",
        "      bag, label = bag.to(device), label.to(device)\n",
        "      output = model(bag)\n",
        "      #print(torch.round(output[0]).cpu().tolist(), label.cpu().tolist())\n",
        "      predicted_val.append(torch.round(output).cpu().tolist()[0][0])\n",
        "      trues_val.append(label.cpu().tolist()[0])\n",
        "\n",
        "  acc_val = accuracy_score(predicted_val, trues_val)\n",
        "\n",
        "  return acc_val\n",
        "    # To-Do"
      ]
    },
    {
      "cell_type": "code",
      "execution_count": 112,
      "metadata": {
        "id": "U6wb5hj1Sr_W",
        "colab": {
          "base_uri": "https://localhost:8080/"
        },
        "outputId": "0f91f189-3e85-494f-a509-0a525d165575"
      },
      "outputs": [
        {
          "output_type": "execute_result",
          "data": {
            "text/plain": [
              "0.7058823529411765"
            ]
          },
          "metadata": {},
          "execution_count": 112
        }
      ],
      "source": [
        "# Test the model trained on the 40X data here (1 points)\n",
        "magn = \"40X\"\n",
        "model = MILModel()\n",
        "model.load_state_dict(torch.load('/content/model40x.pt'))\n",
        "model = model.to(device)\n",
        "test(model, dataset40x_test)"
      ]
    },
    {
      "cell_type": "code",
      "execution_count": 113,
      "metadata": {
        "id": "1bwqS1isnXGY",
        "colab": {
          "base_uri": "https://localhost:8080/"
        },
        "outputId": "b1db6b55-bac6-44ed-d1bc-647794534949"
      },
      "outputs": [
        {
          "output_type": "execute_result",
          "data": {
            "text/plain": [
              "0.6470588235294118"
            ]
          },
          "metadata": {},
          "execution_count": 113
        }
      ],
      "source": [
        "# Test the model trained on the 100X data here (1 points)\n",
        "magn = \"100X\"\n",
        "model = MILModel()\n",
        "model.load_state_dict(torch.load('/content/model100x.pt'))\n",
        "model = model.to(device)\n",
        "test(model, dataset100x_test)"
      ]
    },
    {
      "cell_type": "code",
      "execution_count": 114,
      "metadata": {
        "id": "X8m0OmxCnrT7",
        "colab": {
          "base_uri": "https://localhost:8080/"
        },
        "outputId": "1de99029-74df-4c91-a0ce-980b8c56f62e"
      },
      "outputs": [
        {
          "output_type": "execute_result",
          "data": {
            "text/plain": [
              "0.8235294117647058"
            ]
          },
          "metadata": {},
          "execution_count": 114
        }
      ],
      "source": [
        "# Test the model trained on the 200X data here (1 points)\n",
        "magn = \"200X\"\n",
        "model = MILModel()\n",
        "model.load_state_dict(torch.load('/content/model200x.pt'))\n",
        "model = model.to(device)\n",
        "test(model, dataset200x_test)"
      ]
    },
    {
      "cell_type": "code",
      "execution_count": 116,
      "metadata": {
        "id": "vo3CxsBbSvYV",
        "colab": {
          "base_uri": "https://localhost:8080/"
        },
        "outputId": "5cd41c50-ff21-461e-8d7d-84597f1f43e1"
      },
      "outputs": [
        {
          "output_type": "execute_result",
          "data": {
            "text/plain": [
              "0.7647058823529411"
            ]
          },
          "metadata": {},
          "execution_count": 116
        }
      ],
      "source": [
        "# Test the model trained on the 400X data here (1 points)\n",
        "magn = \"400X\"\n",
        "model = MILModel()\n",
        "model.load_state_dict(torch.load('/content/model400x.pt'))\n",
        "model = model.to(device)\n",
        "test(model, dataset400x_test)"
      ]
    }
  ],
  "metadata": {
    "accelerator": "GPU",
    "colab": {
      "provenance": []
    },
    "kernelspec": {
      "display_name": "Python 3",
      "name": "python3"
    },
    "language_info": {
      "codemirror_mode": {
        "name": "ipython",
        "version": 3
      },
      "file_extension": ".py",
      "mimetype": "text/x-python",
      "name": "python",
      "nbconvert_exporter": "python",
      "pygments_lexer": "ipython3",
      "version": "3.8.0"
    }
  },
  "nbformat": 4,
  "nbformat_minor": 0
}